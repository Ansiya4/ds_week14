{
 "cells": [
  {
   "cell_type": "code",
   "execution_count": 12,
   "id": "85a7197b-116e-4c3e-bdb8-e85792aa3f54",
   "metadata": {},
   "outputs": [],
   "source": [
    "import tensorflow as tf\n",
    "\n",
    "# Step 2: Prepare Data\n",
    "x = tf.constant([1, 2, 3, 4], dtype=tf.float32)\n",
    "y = tf.constant([2, 4, 6, 8], dtype=tf.float32)"
   ]
  },
  {
   "cell_type": "code",
   "execution_count": 13,
   "id": "6843d799-5d7c-46fb-91c5-fdd3b6c81832",
   "metadata": {},
   "outputs": [],
   "source": [
    "# Step 3: Define the Model\n",
    "model = tf.keras.Sequential([\n",
    "    tf.keras.layers.Dense(units=1, input_shape=[1])  # Single neuron in a single layer\n",
    "])"
   ]
  },
  {
   "cell_type": "code",
   "execution_count": 14,
   "id": "1fe2ddb4-30d0-49b0-9c9d-246ec51dbb9f",
   "metadata": {},
   "outputs": [],
   "source": [
    "\n",
    "# Step 4: Compile the Model\n",
    "model.compile(optimizer='sgd', loss= 'mean_squared_error')\n"
   ]
  },
  {
   "cell_type": "code",
   "execution_count": 15,
   "id": "ab237305-689c-404b-8ab8-9c8658879998",
   "metadata": {},
   "outputs": [
    {
     "data": {
      "text/plain": [
       "<keras.src.callbacks.History at 0x20feed3f280>"
      ]
     },
     "execution_count": 15,
     "metadata": {},
     "output_type": "execute_result"
    }
   ],
   "source": [
    "# Step 5: Train the Model\n",
    "model.fit(x, y, epochs=1000, verbose=0)  # Training for 1000 epochs, you may adjust this"
   ]
  },
  {
   "cell_type": "code",
   "execution_count": 16,
   "id": "10a844bd-8869-4108-b1d6-1070aa86dad7",
   "metadata": {},
   "outputs": [
    {
     "name": "stdout",
     "output_type": "stream",
     "text": [
      "1/1 [==============================] - 0s 43ms/step\n",
      "[[2.0144932]\n",
      " [4.007023 ]\n",
      " [5.9995527]\n",
      " [7.9920826]]\n"
     ]
    }
   ],
   "source": [
    "# Step 6: Evaluate the Model\n",
    "predictions = model.predict(x)\n",
    "print(predictions)"
   ]
  },
  {
   "cell_type": "code",
   "execution_count": null,
   "id": "e8306a98-7d50-4ba4-9119-e79640b1e0cb",
   "metadata": {},
   "outputs": [],
   "source": []
  }
 ],
 "metadata": {
  "kernelspec": {
   "display_name": "Python 3 (ipykernel)",
   "language": "python",
   "name": "python3"
  },
  "language_info": {
   "codemirror_mode": {
    "name": "ipython",
    "version": 3
   },
   "file_extension": ".py",
   "mimetype": "text/x-python",
   "name": "python",
   "nbconvert_exporter": "python",
   "pygments_lexer": "ipython3",
   "version": "3.10.10"
  }
 },
 "nbformat": 4,
 "nbformat_minor": 5
}
